{
  "nbformat": 4,
  "nbformat_minor": 0,
  "metadata": {
    "colab": {
      "provenance": [],
      "authorship_tag": "ABX9TyNSXAVwI0WtEHNzER2vGU+9",
      "include_colab_link": true
    },
    "kernelspec": {
      "name": "python3",
      "display_name": "Python 3"
    },
    "language_info": {
      "name": "python"
    }
  },
  "cells": [
    {
      "cell_type": "markdown",
      "metadata": {
        "id": "view-in-github",
        "colab_type": "text"
      },
      "source": [
        "<a href=\"https://colab.research.google.com/github/MathurUtkarsh/Amazon-Scraping-/blob/main/Python_Assignment.ipynb\" target=\"_parent\"><img src=\"https://colab.research.google.com/assets/colab-badge.svg\" alt=\"Open In Colab\"/></a>"
      ]
    },
    {
      "cell_type": "code",
      "execution_count": null,
      "metadata": {
        "colab": {
          "base_uri": "https://localhost:8080/"
        },
        "id": "U7o2UJlaT4tp",
        "outputId": "7da61d1f-ad13-48d1-ba34-7f9ba7cd23c4"
      },
      "outputs": [
        {
          "output_type": "stream",
          "name": "stdout",
          "text": [
            "Looking in indexes: https://pypi.org/simple, https://us-python.pkg.dev/colab-wheels/public/simple/\n",
            "Requirement already satisfied: bs4 in /usr/local/lib/python3.8/dist-packages (0.0.1)\n",
            "Requirement already satisfied: beautifulsoup4 in /usr/local/lib/python3.8/dist-packages (from bs4) (4.6.3)\n",
            "Looking in indexes: https://pypi.org/simple, https://us-python.pkg.dev/colab-wheels/public/simple/\n",
            "Requirement already satisfied: requests in /usr/local/lib/python3.8/dist-packages (2.25.1)\n",
            "Requirement already satisfied: chardet<5,>=3.0.2 in /usr/local/lib/python3.8/dist-packages (from requests) (4.0.0)\n",
            "Requirement already satisfied: urllib3<1.27,>=1.21.1 in /usr/local/lib/python3.8/dist-packages (from requests) (1.24.3)\n",
            "Requirement already satisfied: idna<3,>=2.5 in /usr/local/lib/python3.8/dist-packages (from requests) (2.10)\n",
            "Requirement already satisfied: certifi>=2017.4.17 in /usr/local/lib/python3.8/dist-packages (from requests) (2022.12.7)\n"
          ]
        }
      ],
      "source": [
        "!pip install  bs4\n",
        "!pip install requests"
      ]
    },
    {
      "cell_type": "code",
      "source": [
        "import requests\n",
        "import pandas as pd\n",
        "from bs4 import BeautifulSoup\n",
        "\n",
        "# Define the base URL and headers\n",
        "base_url = \"https://www.amazon.in/s?k=bags&crid=2M096C61O4MLT&qid=1653308124&sprefix=ba%2Caps%2C283&page=\"\n",
        "headers = {\n",
        "    \"User-Agent\": \"Mozilla/5.0 (Windows NT 10.0; Win64; x64) AppleWebKit/537.36 (KHTML, like Gecko) Chrome/89.0.4389.82 Safari/537.36\"\n",
        "}\n",
        "\n",
        "# Define an empty list to store the scraped product data\n",
        "data = []\n",
        "\n",
        "# Loop over the first 20 pages of the product listing\n",
        "for page_num in range(1, 21):\n",
        "    # Get the URL for the current page\n",
        "    url = base_url + str(page_num)\n",
        "    \n",
        "    # Get the page content\n",
        "    page = requests.get(url, headers=headers)\n",
        "    soup = BeautifulSoup(page.content, \"html.parser\")\n",
        "    \n",
        "    # Find all the product containers on the page\n",
        "    product_containers = soup.find_all(\"div\", class_=\"s-result-item\")\n",
        "    \n",
        "    # Loop over each product container\n",
        "    for product in product_containers:\n",
        "        try:\n",
        "            # Extract the product information from the container\n",
        "            product_url = product.find(\"a\", class_=\"a-link-normal\").get(\"href\")\n",
        "            product_name = product.find(\"span\", class_=\"a-size-medium a-color-base a-text-normal\").text.strip()\n",
        "            product_price = product.find(\"span\", class_=\"a-offscreen\").text.strip()\n",
        "            product_rating = product.find(\"span\", class_=\"a-icon-alt\").text.strip()\n",
        "            product_reviews = product.find(\"span\", class_=\"a-size-base s-underline-text\").text.strip()\n",
        "            \n",
        "            # Get the product page content\n",
        "            product_page = requests.get(product_url, headers=headers)\n",
        "            product_soup = BeautifulSoup(product_page.content, \"html.parser\")\n",
        "            \n",
        "            # Extract the additional product information\n",
        "            product_description = product_soup.find(\"div\", id=\"feature-bullets\").text.strip()\n",
        "            product_asin = product_soup.find(\"input\", id=\"ASIN\").get(\"value\")\n",
        "            product_manufacturer = product_soup.find(\"div\", id=\"bylineInfo\").text.strip()\n",
        "            \n",
        "            # Store the product information in the data list\n",
        "            data.append({\n",
        "                \"Product URL\": product_url,\n",
        "                \"Product Name\": product_name,\n",
        "                \"Product Price\": product_price,\n",
        "                \"Rating\": product_rating,\n",
        "                \"Number of Reviews\": product_reviews,\n",
        "                \"Description\": product_description,\n",
        "                \"ASIN\": product_asin,\n",
        "                \"Manufacturer\": product_manufacturer\n",
        "            })\n",
        "        except:\n",
        "            # Skip any product containers that don't have all the required information\n",
        "            continue\n",
        "\n",
        "# Convert the data list to\n",
        "df = pd.DataFrame(data)\n"
      ],
      "metadata": {
        "id": "P2A49lDhVHWc"
      },
      "execution_count": null,
      "outputs": []
    },
    {
      "cell_type": "code",
      "source": [
        "df.to_csv(\"product_data.csv\", index=False)"
      ],
      "metadata": {
        "id": "kCjQluFEUuCY"
      },
      "execution_count": null,
      "outputs": []
    }
  ]
}